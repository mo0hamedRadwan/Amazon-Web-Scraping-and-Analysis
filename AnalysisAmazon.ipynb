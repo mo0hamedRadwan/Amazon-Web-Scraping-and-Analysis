{
 "cells": [
  {
   "cell_type": "code",
   "execution_count": null,
   "metadata": {},
   "outputs": [],
   "source": [
    "import numpy as np\n",
    "import pandas as pd\n",
    "import matplotlib.pyplot as plt"
   ]
  },
  {
   "cell_type": "code",
   "execution_count": 43,
   "metadata": {},
   "outputs": [
    {
     "data": {
      "text/html": [
       "<div>\n",
       "<style scoped>\n",
       "    .dataframe tbody tr th:only-of-type {\n",
       "        vertical-align: middle;\n",
       "    }\n",
       "\n",
       "    .dataframe tbody tr th {\n",
       "        vertical-align: top;\n",
       "    }\n",
       "\n",
       "    .dataframe thead th {\n",
       "        text-align: right;\n",
       "    }\n",
       "</style>\n",
       "<table border=\"1\" class=\"dataframe\">\n",
       "  <thead>\n",
       "    <tr style=\"text-align: right;\">\n",
       "      <th></th>\n",
       "      <th>Asin</th>\n",
       "      <th>Title</th>\n",
       "      <th>Price</th>\n",
       "      <th>Sold by</th>\n",
       "      <th>Review Count</th>\n",
       "      <th>Rating</th>\n",
       "      <th>Date</th>\n",
       "    </tr>\n",
       "  </thead>\n",
       "  <tbody>\n",
       "    <tr>\n",
       "      <th>0</th>\n",
       "      <td>B09XN86NH2</td>\n",
       "      <td>ASUS Touchscreen Chromebook Flip C433TA 14-inc...</td>\n",
       "      <td>299.00</td>\n",
       "      <td>Amazon</td>\n",
       "      <td>300</td>\n",
       "      <td>4.5</td>\n",
       "      <td>15 Mar. 2022</td>\n",
       "    </tr>\n",
       "    <tr>\n",
       "      <th>1</th>\n",
       "      <td>B09MLBQQZ5</td>\n",
       "      <td>14'' Laptop Computer Intel Core i5-8279U Proce...</td>\n",
       "      <td>379.99</td>\n",
       "      <td>OakTech</td>\n",
       "      <td>20</td>\n",
       "      <td>3.5</td>\n",
       "      <td>26 Nov. 2021</td>\n",
       "    </tr>\n",
       "    <tr>\n",
       "      <th>2</th>\n",
       "      <td>B08T9G5CPD</td>\n",
       "      <td>Razer Blade Pro 17 - 17.3 Inch Pro Gaming Lapt...</td>\n",
       "      <td>1509.92</td>\n",
       "      <td>Amazon</td>\n",
       "      <td>41</td>\n",
       "      <td>4.0</td>\n",
       "      <td>26 Jan. 2021</td>\n",
       "    </tr>\n",
       "    <tr>\n",
       "      <th>3</th>\n",
       "      <td>B09GY936QD</td>\n",
       "      <td>Samsung Galaxy Book Go 14 Inch with Windows 11...</td>\n",
       "      <td>269.00</td>\n",
       "      <td>Amazon</td>\n",
       "      <td>22</td>\n",
       "      <td>4.4</td>\n",
       "      <td>22 Dec. 2021</td>\n",
       "    </tr>\n",
       "    <tr>\n",
       "      <th>4</th>\n",
       "      <td>B08CN556LT</td>\n",
       "      <td>Lenovo IdeaPad 3i 17IML05 17.3 HD+ Laptop Inte...</td>\n",
       "      <td>429.52</td>\n",
       "      <td>Amazon</td>\n",
       "      <td>1</td>\n",
       "      <td>4.0</td>\n",
       "      <td>5 Oct. 2021</td>\n",
       "    </tr>\n",
       "    <tr>\n",
       "      <th>5</th>\n",
       "      <td>B09JZFDZBL</td>\n",
       "      <td>Acer Aspire Vero AV15-51 15.6 inch Laptop - (I...</td>\n",
       "      <td>823.19</td>\n",
       "      <td>Amazon</td>\n",
       "      <td>72</td>\n",
       "      <td>4.6</td>\n",
       "      <td>21 Oct. 2021</td>\n",
       "    </tr>\n",
       "    <tr>\n",
       "      <th>6</th>\n",
       "      <td>B083DQPPT3</td>\n",
       "      <td>CHUWI Herobook Pro Laptop, 14 inch 8GB RAM 256...</td>\n",
       "      <td>199.00</td>\n",
       "      <td>BIG FAN TRADING CO., LTD</td>\n",
       "      <td>758</td>\n",
       "      <td>3.9</td>\n",
       "      <td>6 Jan. 2021</td>\n",
       "    </tr>\n",
       "    <tr>\n",
       "      <th>7</th>\n",
       "      <td>B09MFBWCJ6</td>\n",
       "      <td>HOARDER Windows 10 Laptop 15.6 Inch Computer,8...</td>\n",
       "      <td>369.00</td>\n",
       "      <td>TOPOSH Official Store</td>\n",
       "      <td>2</td>\n",
       "      <td>5.0</td>\n",
       "      <td>23 Nov. 2021</td>\n",
       "    </tr>\n",
       "  </tbody>\n",
       "</table>\n",
       "</div>"
      ],
      "text/plain": [
       "         Asin                                              Title    Price  \\\n",
       "0  B09XN86NH2  ASUS Touchscreen Chromebook Flip C433TA 14-inc...   299.00   \n",
       "1  B09MLBQQZ5  14'' Laptop Computer Intel Core i5-8279U Proce...   379.99   \n",
       "2  B08T9G5CPD  Razer Blade Pro 17 - 17.3 Inch Pro Gaming Lapt...  1509.92   \n",
       "3  B09GY936QD  Samsung Galaxy Book Go 14 Inch with Windows 11...   269.00   \n",
       "4  B08CN556LT  Lenovo IdeaPad 3i 17IML05 17.3 HD+ Laptop Inte...   429.52   \n",
       "5  B09JZFDZBL  Acer Aspire Vero AV15-51 15.6 inch Laptop - (I...   823.19   \n",
       "6  B083DQPPT3  CHUWI Herobook Pro Laptop, 14 inch 8GB RAM 256...   199.00   \n",
       "7  B09MFBWCJ6  HOARDER Windows 10 Laptop 15.6 Inch Computer,8...   369.00   \n",
       "\n",
       "                    Sold by  Review Count  Rating          Date  \n",
       "0                    Amazon           300     4.5  15 Mar. 2022  \n",
       "1                   OakTech            20     3.5  26 Nov. 2021  \n",
       "2                    Amazon            41     4.0  26 Jan. 2021  \n",
       "3                    Amazon            22     4.4  22 Dec. 2021  \n",
       "4                    Amazon             1     4.0   5 Oct. 2021  \n",
       "5                    Amazon            72     4.6  21 Oct. 2021  \n",
       "6  BIG FAN TRADING CO., LTD           758     3.9   6 Jan. 2021  \n",
       "7     TOPOSH Official Store             2     5.0  23 Nov. 2021  "
      ]
     },
     "execution_count": 43,
     "metadata": {},
     "output_type": "execute_result"
    }
   ],
   "source": [
    "# Read CSV File\n",
    "products_data = pd.read_csv('Products.csv')\n",
    "products_data.head(8)"
   ]
  },
  {
   "cell_type": "markdown",
   "metadata": {},
   "source": [
    "### What is the lowest and highest price in the products?"
   ]
  },
  {
   "cell_type": "code",
   "execution_count": null,
   "metadata": {},
   "outputs": [],
   "source": [
    "prices = products_data['Price']\n",
    "prices = prices.astype('Float64')"
   ]
  },
  {
   "cell_type": "code",
   "execution_count": null,
   "metadata": {},
   "outputs": [],
   "source": [
    "low_price = prices.min()\n",
    "#low_price_idx = prices.idxmin()\n",
    "products_data[prices == low_price]"
   ]
  },
  {
   "cell_type": "code",
   "execution_count": null,
   "metadata": {},
   "outputs": [],
   "source": [
    "high_price = prices.max()\n",
    "#high_price_idx = prices.idxmax()\n",
    "products_data[prices == high_price]"
   ]
  },
  {
   "cell_type": "code",
   "execution_count": null,
   "metadata": {},
   "outputs": [],
   "source": [
    "print(f'Products Range price from {low_price} to {high_price}')"
   ]
  },
  {
   "cell_type": "markdown",
   "metadata": {},
   "source": [
    "### What are the products price less than or equal to 1000?"
   ]
  },
  {
   "cell_type": "code",
   "execution_count": null,
   "metadata": {},
   "outputs": [],
   "source": [
    "products_data[prices <= 1000]"
   ]
  },
  {
   "cell_type": "markdown",
   "metadata": {},
   "source": [
    "### What are the products with the lowest and highest rating?"
   ]
  },
  {
   "cell_type": "code",
   "execution_count": null,
   "metadata": {},
   "outputs": [],
   "source": [
    "rating = products_data['Rating']\n",
    "min_rating = rating.min()\n",
    "max_rating = rating.max()"
   ]
  },
  {
   "cell_type": "code",
   "execution_count": null,
   "metadata": {},
   "outputs": [],
   "source": [
    "products_data[rating == min_rating]"
   ]
  },
  {
   "cell_type": "code",
   "execution_count": null,
   "metadata": {},
   "outputs": [],
   "source": [
    "products_data[rating == max_rating]"
   ]
  },
  {
   "cell_type": "markdown",
   "metadata": {},
   "source": [
    "### What is the products for each seller, except for Amazon?"
   ]
  },
  {
   "cell_type": "code",
   "execution_count": null,
   "metadata": {},
   "outputs": [],
   "source": [
    "sellers = products_data['Sold by']\n",
    "products_data[sellers != 'Amazon']"
   ]
  },
  {
   "cell_type": "markdown",
   "metadata": {},
   "source": [
    "### What is the number of products for each seller?"
   ]
  },
  {
   "cell_type": "code",
   "execution_count": null,
   "metadata": {},
   "outputs": [],
   "source": [
    "sellers.value_counts()"
   ]
  },
  {
   "cell_type": "markdown",
   "metadata": {},
   "source": [
    "### Is there a relationship between price and rating?"
   ]
  },
  {
   "cell_type": "code",
   "execution_count": null,
   "metadata": {},
   "outputs": [],
   "source": []
  },
  {
   "cell_type": "markdown",
   "metadata": {},
   "source": [
    "### Is there a relationship between price and Review Count?"
   ]
  },
  {
   "cell_type": "code",
   "execution_count": null,
   "metadata": {},
   "outputs": [],
   "source": []
  },
  {
   "cell_type": "markdown",
   "metadata": {},
   "source": [
    "### What is the average rating of the products?"
   ]
  },
  {
   "cell_type": "code",
   "execution_count": null,
   "metadata": {},
   "outputs": [],
   "source": [
    "print(f'{(rating.mean()):.2f}')"
   ]
  },
  {
   "cell_type": "markdown",
   "metadata": {},
   "source": [
    "### What is the average Price of the products?"
   ]
  },
  {
   "cell_type": "code",
   "execution_count": null,
   "metadata": {},
   "outputs": [],
   "source": [
    "print(f'{(prices.mean()):.2f}')"
   ]
  },
  {
   "cell_type": "markdown",
   "metadata": {},
   "source": [
    "### What is the most popular product?"
   ]
  },
  {
   "cell_type": "code",
   "execution_count": 44,
   "metadata": {},
   "outputs": [
    {
     "data": {
      "text/html": [
       "<div>\n",
       "<style scoped>\n",
       "    .dataframe tbody tr th:only-of-type {\n",
       "        vertical-align: middle;\n",
       "    }\n",
       "\n",
       "    .dataframe tbody tr th {\n",
       "        vertical-align: top;\n",
       "    }\n",
       "\n",
       "    .dataframe thead th {\n",
       "        text-align: right;\n",
       "    }\n",
       "</style>\n",
       "<table border=\"1\" class=\"dataframe\">\n",
       "  <thead>\n",
       "    <tr style=\"text-align: right;\">\n",
       "      <th></th>\n",
       "      <th>Asin</th>\n",
       "      <th>Title</th>\n",
       "      <th>Price</th>\n",
       "      <th>Sold by</th>\n",
       "      <th>Review Count</th>\n",
       "      <th>Rating</th>\n",
       "      <th>Date</th>\n",
       "    </tr>\n",
       "  </thead>\n",
       "  <tbody>\n",
       "    <tr>\n",
       "      <th>78</th>\n",
       "      <td>B07RF1XD36</td>\n",
       "      <td>Acer Aspire 5 Slim Laptop, 15.6 Full HD IPS Di...</td>\n",
       "      <td>6.47</td>\n",
       "      <td>Amazon</td>\n",
       "      <td>34602</td>\n",
       "      <td>4.5</td>\n",
       "      <td>11 Nov. 2019</td>\n",
       "    </tr>\n",
       "  </tbody>\n",
       "</table>\n",
       "</div>"
      ],
      "text/plain": [
       "          Asin                                              Title  Price  \\\n",
       "78  B07RF1XD36  Acer Aspire 5 Slim Laptop, 15.6 Full HD IPS Di...   6.47   \n",
       "\n",
       "   Sold by  Review Count  Rating          Date  \n",
       "78  Amazon         34602     4.5  11 Nov. 2019  "
      ]
     },
     "execution_count": 44,
     "metadata": {},
     "output_type": "execute_result"
    }
   ],
   "source": [
    "review_count = products_data['Review Count']\n",
    "popular = products_data[review_count == review_count.max()]\n",
    "popular"
   ]
  },
  {
   "cell_type": "markdown",
   "metadata": {},
   "source": [
    "### What is the older and newer product?"
   ]
  },
  {
   "cell_type": "code",
   "execution_count": null,
   "metadata": {},
   "outputs": [],
   "source": [
    "## ??? "
   ]
  },
  {
   "cell_type": "markdown",
   "metadata": {},
   "source": [
    "### Convert currency from british pound to dollar?"
   ]
  },
  {
   "cell_type": "code",
   "execution_count": 48,
   "metadata": {},
   "outputs": [
    {
     "data": {
      "text/html": [
       "<div>\n",
       "<style scoped>\n",
       "    .dataframe tbody tr th:only-of-type {\n",
       "        vertical-align: middle;\n",
       "    }\n",
       "\n",
       "    .dataframe tbody tr th {\n",
       "        vertical-align: top;\n",
       "    }\n",
       "\n",
       "    .dataframe thead th {\n",
       "        text-align: right;\n",
       "    }\n",
       "</style>\n",
       "<table border=\"1\" class=\"dataframe\">\n",
       "  <thead>\n",
       "    <tr style=\"text-align: right;\">\n",
       "      <th></th>\n",
       "      <th>Asin</th>\n",
       "      <th>Title</th>\n",
       "      <th>Price</th>\n",
       "      <th>Sold by</th>\n",
       "      <th>Review Count</th>\n",
       "      <th>Rating</th>\n",
       "      <th>Date</th>\n",
       "    </tr>\n",
       "  </thead>\n",
       "  <tbody>\n",
       "    <tr>\n",
       "      <th>0</th>\n",
       "      <td>B09XN86NH2</td>\n",
       "      <td>ASUS Touchscreen Chromebook Flip C433TA 14-inc...</td>\n",
       "      <td>370.7600</td>\n",
       "      <td>Amazon</td>\n",
       "      <td>300</td>\n",
       "      <td>4.5</td>\n",
       "      <td>15 Mar. 2022</td>\n",
       "    </tr>\n",
       "    <tr>\n",
       "      <th>1</th>\n",
       "      <td>B09MLBQQZ5</td>\n",
       "      <td>14'' Laptop Computer Intel Core i5-8279U Proce...</td>\n",
       "      <td>471.1876</td>\n",
       "      <td>OakTech</td>\n",
       "      <td>20</td>\n",
       "      <td>3.5</td>\n",
       "      <td>26 Nov. 2021</td>\n",
       "    </tr>\n",
       "    <tr>\n",
       "      <th>2</th>\n",
       "      <td>B08T9G5CPD</td>\n",
       "      <td>Razer Blade Pro 17 - 17.3 Inch Pro Gaming Lapt...</td>\n",
       "      <td>1872.3008</td>\n",
       "      <td>Amazon</td>\n",
       "      <td>41</td>\n",
       "      <td>4.0</td>\n",
       "      <td>26 Jan. 2021</td>\n",
       "    </tr>\n",
       "    <tr>\n",
       "      <th>3</th>\n",
       "      <td>B09GY936QD</td>\n",
       "      <td>Samsung Galaxy Book Go 14 Inch with Windows 11...</td>\n",
       "      <td>333.5600</td>\n",
       "      <td>Amazon</td>\n",
       "      <td>22</td>\n",
       "      <td>4.4</td>\n",
       "      <td>22 Dec. 2021</td>\n",
       "    </tr>\n",
       "    <tr>\n",
       "      <th>4</th>\n",
       "      <td>B08CN556LT</td>\n",
       "      <td>Lenovo IdeaPad 3i 17IML05 17.3 HD+ Laptop Inte...</td>\n",
       "      <td>532.6048</td>\n",
       "      <td>Amazon</td>\n",
       "      <td>1</td>\n",
       "      <td>4.0</td>\n",
       "      <td>5 Oct. 2021</td>\n",
       "    </tr>\n",
       "  </tbody>\n",
       "</table>\n",
       "</div>"
      ],
      "text/plain": [
       "         Asin                                              Title      Price  \\\n",
       "0  B09XN86NH2  ASUS Touchscreen Chromebook Flip C433TA 14-inc...   370.7600   \n",
       "1  B09MLBQQZ5  14'' Laptop Computer Intel Core i5-8279U Proce...   471.1876   \n",
       "2  B08T9G5CPD  Razer Blade Pro 17 - 17.3 Inch Pro Gaming Lapt...  1872.3008   \n",
       "3  B09GY936QD  Samsung Galaxy Book Go 14 Inch with Windows 11...   333.5600   \n",
       "4  B08CN556LT  Lenovo IdeaPad 3i 17IML05 17.3 HD+ Laptop Inte...   532.6048   \n",
       "\n",
       "   Sold by  Review Count  Rating          Date  \n",
       "0   Amazon           300     4.5  15 Mar. 2022  \n",
       "1  OakTech            20     3.5  26 Nov. 2021  \n",
       "2   Amazon            41     4.0  26 Jan. 2021  \n",
       "3   Amazon            22     4.4  22 Dec. 2021  \n",
       "4   Amazon             1     4.0   5 Oct. 2021  "
      ]
     },
     "execution_count": 48,
     "metadata": {},
     "output_type": "execute_result"
    }
   ],
   "source": [
    "# 1 british pound ==> 1.24 Dollor\n",
    "prices_dollor = prices * 1.24\n",
    "products_data['Price'] = prices_dollor\n",
    "products_data.head()"
   ]
  },
  {
   "cell_type": "markdown",
   "metadata": {},
   "source": [
    "### Determine Brand for each Products?"
   ]
  },
  {
   "cell_type": "code",
   "execution_count": 62,
   "metadata": {},
   "outputs": [
    {
     "name": "stdout",
     "output_type": "stream",
     "text": [
      "{'asus': 62, 'acer': 20, 'msi': 18, 'razer': 9, 'samsung': 8, 'microsoft': 16, 'lenovo': 53, 'dell': 23, 'hp': 22, 'other': 76}\n"
     ]
    }
   ],
   "source": [
    "brands = {\n",
    "    'asus': 0,\n",
    "    'acer': 0,\n",
    "    'msi': 0,\n",
    "    'razer': 0,\n",
    "    'samsung': 0,\n",
    "    'microsoft': 0,\n",
    "    'lenovo': 0,\n",
    "    'dell': 0,\n",
    "    'hp': 0,\n",
    "    'other': 0,\n",
    "}\n",
    "laptop_titles = products_data['Title']\n",
    "\n",
    "for i in range(0, laptop_titles.size):\n",
    "    flag = True\n",
    "    for k in brands.keys():\n",
    "        if(k in laptop_titles[i].lower()):\n",
    "            brands[k] += 1\n",
    "            flag = False\n",
    "            break\n",
    "    if(flag):\n",
    "        brands['other'] += 1\n",
    "\n",
    "print(brands)"
   ]
  }
 ],
 "metadata": {
  "kernelspec": {
   "display_name": "Python 3",
   "language": "python",
   "name": "python3"
  },
  "language_info": {
   "codemirror_mode": {
    "name": "ipython",
    "version": 3
   },
   "file_extension": ".py",
   "mimetype": "text/x-python",
   "name": "python",
   "nbconvert_exporter": "python",
   "pygments_lexer": "ipython3",
   "version": "3.8.5"
  }
 },
 "nbformat": 4,
 "nbformat_minor": 4
}
